{
  "nbformat": 4,
  "nbformat_minor": 0,
  "metadata": {
    "colab": {
      "name": "DL_PPSS-train.ipynb",
      "version": "0.3.2",
      "provenance": [],
      "collapsed_sections": [],
      "include_colab_link": true
    },
    "kernelspec": {
      "name": "python3",
      "display_name": "Python 3"
    },
    "accelerator": "GPU"
  },
  "cells": [
    {
      "cell_type": "markdown",
      "metadata": {
        "id": "view-in-github",
        "colab_type": "text"
      },
      "source": [
        "<a href=\"https://colab.research.google.com/github/thinguyend/thesis1819/blob/master/DL_PPSS_train.ipynb\" target=\"_parent\"><img src=\"https://colab.research.google.com/assets/colab-badge.svg\" alt=\"Open In Colab\"/></a>"
      ]
    },
    {
      "metadata": {
        "id": "udoTjlmTG0Yf",
        "colab_type": "code",
        "outputId": "f4353d35-b91b-4b18-a5f7-b2dc1260e530",
        "colab": {
          "base_uri": "https://localhost:8080/",
          "height": 54
        }
      },
      "cell_type": "code",
      "source": [
        "from google.colab import drive\n",
        "drive.mount('/content/drive/')"
      ],
      "execution_count": 0,
      "outputs": [
        {
          "output_type": "stream",
          "text": [
            "Drive already mounted at /content/drive/; to attempt to forcibly remount, call drive.mount(\"/content/drive/\", force_remount=True).\n"
          ],
          "name": "stdout"
        }
      ]
    },
    {
      "metadata": {
        "id": "ZxEp5STlav4M",
        "colab_type": "code",
        "outputId": "364c27f9-a8d8-4799-a61a-f21714f0d0e1",
        "colab": {
          "base_uri": "https://localhost:8080/",
          "height": 34
        }
      },
      "cell_type": "code",
      "source": [
        "%cd \"/content/drive/My Drive/app/thesis-project\""
      ],
      "execution_count": 2,
      "outputs": [
        {
          "output_type": "stream",
          "text": [
            "/content/drive/My Drive/app/thesis-project\n"
          ],
          "name": "stdout"
        }
      ]
    },
    {
      "metadata": {
        "id": "65xYNaPra4jo",
        "colab_type": "code",
        "colab": {
          "base_uri": "https://localhost:8080/",
          "height": 1006
        },
        "outputId": "1c002cbe-2571-4f32-a021-d03643208498"
      },
      "cell_type": "code",
      "source": [
        "!python3 train.py"
      ],
      "execution_count": 3,
      "outputs": [
        {
          "output_type": "stream",
          "text": [
            "Going to read training images\n",
            "Now going to read class_d_train files (Index: 0)\n",
            "Now going to read class_b_train files (Index: 1)\n",
            "Now going to read class_c_train files (Index: 2)\n",
            "Now going to read class_a_train files (Index: 3)\n",
            "Now going to read .DS_Store files (Index: 4)\n",
            "tcmalloc: large alloc 1568440320 bytes == 0x63070000 @  0x7f68cc4c51e7 0x7f68c1d70a41 0x7f68c1dd3c13 0x7f68c1dd70c4 0x7f68c1dd7605 0x7f68c1e6e201 0x5030d5 0x506859 0x502209 0x502f3d 0x506859 0x504c28 0x502540 0x502f3d 0x507641 0x504c28 0x506393 0x634d52 0x634e0a 0x6385c8 0x63915a 0x4a6f10 0x7f68cc0c2b97 0x5afa0a\n",
            "tcmalloc: large alloc 1568440320 bytes == 0xc0838000 @  0x7f68cc4c51e7 0x7f68c1d70a41 0x7f68c1dd3c13 0x7f68c1dd3cda 0x7f68c1e242e4 0x7f68c1e645c0 0x5030d5 0x507641 0x504c28 0x502540 0x502f3d 0x506859 0x504c28 0x502540 0x502f3d 0x506859 0x504c28 0x58650d 0x59ebbe 0x507c17 0x504c28 0x502540 0x502f3d 0x506859 0x504c28 0x502540 0x502f3d 0x507641 0x504c28 0x506393 0x634d52\n",
            "Complete reading input data. Will Now print a snippet of it\n",
            "Number of files in Training-set:\t\t6692\n",
            "Number of files in Validation-set:\t1673\n",
            "2019-04-03 21:56:58.897164: I tensorflow/core/platform/profile_utils/cpu_utils.cc:94] CPU Frequency: 2300000000 Hz\n",
            "2019-04-03 21:56:58.897547: I tensorflow/compiler/xla/service/service.cc:150] XLA service 0x1ff7a20 executing computations on platform Host. Devices:\n",
            "2019-04-03 21:56:58.897616: I tensorflow/compiler/xla/service/service.cc:158]   StreamExecutor device (0): <undefined>, <undefined>\n",
            "2019-04-03 21:56:59.073973: I tensorflow/stream_executor/cuda/cuda_gpu_executor.cc:998] successful NUMA node read from SysFS had negative value (-1), but there must be at least one NUMA node, so returning NUMA node zero\n",
            "2019-04-03 21:56:59.074634: I tensorflow/compiler/xla/service/service.cc:150] XLA service 0x1ff6c60 executing computations on platform CUDA. Devices:\n",
            "2019-04-03 21:56:59.074671: I tensorflow/compiler/xla/service/service.cc:158]   StreamExecutor device (0): Tesla K80, Compute Capability 3.7\n",
            "2019-04-03 21:56:59.075100: I tensorflow/core/common_runtime/gpu/gpu_device.cc:1433] Found device 0 with properties: \n",
            "name: Tesla K80 major: 3 minor: 7 memoryClockRate(GHz): 0.8235\n",
            "pciBusID: 0000:00:04.0\n",
            "totalMemory: 11.17GiB freeMemory: 11.10GiB\n",
            "2019-04-03 21:56:59.075168: I tensorflow/core/common_runtime/gpu/gpu_device.cc:1512] Adding visible gpu devices: 0\n",
            "2019-04-03 21:57:00.597396: I tensorflow/core/common_runtime/gpu/gpu_device.cc:984] Device interconnect StreamExecutor with strength 1 edge matrix:\n",
            "2019-04-03 21:57:00.597470: I tensorflow/core/common_runtime/gpu/gpu_device.cc:990]      0 \n",
            "2019-04-03 21:57:00.597492: I tensorflow/core/common_runtime/gpu/gpu_device.cc:1003] 0:   N \n",
            "2019-04-03 21:57:00.597836: W tensorflow/core/common_runtime/gpu/gpu_bfc_allocator.cc:42] Overriding allow_growth setting because the TF_FORCE_GPU_ALLOW_GROWTH environment variable is set. Original config value was 0.\n",
            "2019-04-03 21:57:00.597948: I tensorflow/core/common_runtime/gpu/gpu_device.cc:1115] Created TensorFlow device (/job:localhost/replica:0/task:0/device:GPU:0 with 10754 MB memory) -> physical GPU (device: 0, name: Tesla K80, pci bus id: 0000:00:04.0, compute capability: 3.7)\n",
            "WARNING:tensorflow:From train.py:44: calling argmax (from tensorflow.python.ops.math_ops) with dimension is deprecated and will be removed in a future version.\n",
            "Instructions for updating:\n",
            "Use the `axis` argument instead\n",
            "WARNING:tensorflow:From /usr/local/lib/python3.6/dist-packages/tensorflow/python/framework/op_def_library.py:263: colocate_with (from tensorflow.python.framework.ops) is deprecated and will be removed in a future version.\n",
            "Instructions for updating:\n",
            "Colocations handled automatically by placer.\n",
            "WARNING:tensorflow:From train.py:160: softmax_cross_entropy_with_logits (from tensorflow.python.ops.nn_ops) is deprecated and will be removed in a future version.\n",
            "Instructions for updating:\n",
            "\n",
            "Future major versions of TensorFlow will allow gradients to flow\n",
            "into the labels input on backprop by default.\n",
            "\n",
            "See `tf.nn.softmax_cross_entropy_with_logits_v2`.\n",
            "\n",
            "2019-04-03 21:57:01.362485: I tensorflow/stream_executor/dso_loader.cc:152] successfully opened CUDA library libcublas.so.10.0 locally\n",
            "Training Epoch 1 --- Training Accuracy:  40.6%, Validation Accuracy:  25.0%,  Validation Loss: 1.581\n",
            "Training Epoch 2 --- Training Accuracy:  68.8%, Validation Accuracy:  65.6%,  Validation Loss: 0.790\n",
            "Training Epoch 3 --- Training Accuracy:  81.2%, Validation Accuracy:  75.0%,  Validation Loss: 0.546\n",
            "Training Epoch 4 --- Training Accuracy:  81.2%, Validation Accuracy:  87.5%,  Validation Loss: 0.376\n",
            "Training Epoch 5 --- Training Accuracy:  84.4%, Validation Accuracy:  75.0%,  Validation Loss: 0.645\n",
            "Training Epoch 6 --- Training Accuracy:  81.2%, Validation Accuracy:  81.2%,  Validation Loss: 0.464\n",
            "Training Epoch 7 --- Training Accuracy:  84.4%, Validation Accuracy:  78.1%,  Validation Loss: 0.600\n",
            "Training Epoch 8 --- Training Accuracy:  84.4%, Validation Accuracy:  78.1%,  Validation Loss: 0.470\n",
            "Training Epoch 9 --- Training Accuracy:  84.4%, Validation Accuracy:  78.1%,  Validation Loss: 0.483\n",
            "Training Epoch 10 --- Training Accuracy:  84.4%, Validation Accuracy:  81.2%,  Validation Loss: 0.460\n",
            "Training Epoch 11 --- Training Accuracy:  87.5%, Validation Accuracy:  84.4%,  Validation Loss: 0.380\n",
            "Training Epoch 12 --- Training Accuracy:  87.5%, Validation Accuracy:  81.2%,  Validation Loss: 0.374\n",
            "Training Epoch 13 --- Training Accuracy:  87.5%, Validation Accuracy:  78.1%,  Validation Loss: 0.648\n",
            "Training Epoch 14 --- Training Accuracy:  87.5%, Validation Accuracy:  75.0%,  Validation Loss: 0.837\n",
            "Training Epoch 15 --- Training Accuracy:  90.6%, Validation Accuracy:  81.2%,  Validation Loss: 0.465\n"
          ],
          "name": "stdout"
        }
      ]
    }
  ]
}